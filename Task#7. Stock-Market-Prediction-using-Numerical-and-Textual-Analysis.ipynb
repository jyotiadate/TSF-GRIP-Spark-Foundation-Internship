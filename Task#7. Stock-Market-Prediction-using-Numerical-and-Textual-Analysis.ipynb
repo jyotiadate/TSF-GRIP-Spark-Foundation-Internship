{
 "cells": [
  {
   "cell_type": "markdown",
   "id": "ee75a012",
   "metadata": {},
   "source": [
    "# Task#7. Stock-Market-Prediction-using-Numerical-and-Textual-Analysis"
   ]
  },
  {
   "cell_type": "markdown",
   "id": "13ac6444",
   "metadata": {},
   "source": [
    "## GRIP@ The Spark Foundation"
   ]
  },
  {
   "cell_type": "markdown",
   "id": "9b4da02d",
   "metadata": {},
   "source": [
    "### Author: Jyoti Adate"
   ]
  },
  {
   "cell_type": "markdown",
   "id": "f6700562",
   "metadata": {},
   "source": [
    "### Problem Statement- \n",
    "Create the hybrid model for stock price/performance prediction numerical analysis of historical stock price and sentimenatal analysis of news headlines"
   ]
  },
  {
   "cell_type": "code",
   "execution_count": 8,
   "id": "73fb865f",
   "metadata": {},
   "outputs": [],
   "source": [
    "import pandas as pd\n",
    "import numpy as np\n",
    "import seaborn as sns\n",
    "import matplotlib.pyplot as plt\n",
    "from statsmodels.tsa.stattools import adfuller, acf, pacf\n"
   ]
  },
  {
   "cell_type": "code",
   "execution_count": 9,
   "id": "cdaaeca1",
   "metadata": {},
   "outputs": [
    {
     "data": {
      "text/html": [
       "<div>\n",
       "<style scoped>\n",
       "    .dataframe tbody tr th:only-of-type {\n",
       "        vertical-align: middle;\n",
       "    }\n",
       "\n",
       "    .dataframe tbody tr th {\n",
       "        vertical-align: top;\n",
       "    }\n",
       "\n",
       "    .dataframe thead th {\n",
       "        text-align: right;\n",
       "    }\n",
       "</style>\n",
       "<table border=\"1\" class=\"dataframe\">\n",
       "  <thead>\n",
       "    <tr style=\"text-align: right;\">\n",
       "      <th></th>\n",
       "      <th>publish_date</th>\n",
       "      <th>headline_category</th>\n",
       "      <th>headline_text</th>\n",
       "    </tr>\n",
       "  </thead>\n",
       "  <tbody>\n",
       "    <tr>\n",
       "      <th>0</th>\n",
       "      <td>20010102</td>\n",
       "      <td>unknown</td>\n",
       "      <td>Status quo will not be disturbed at Ayodhya; s...</td>\n",
       "    </tr>\n",
       "    <tr>\n",
       "      <th>1</th>\n",
       "      <td>20010102</td>\n",
       "      <td>unknown</td>\n",
       "      <td>Fissures in Hurriyat over Pak visit</td>\n",
       "    </tr>\n",
       "    <tr>\n",
       "      <th>2</th>\n",
       "      <td>20010102</td>\n",
       "      <td>unknown</td>\n",
       "      <td>America's unwanted heading for India?</td>\n",
       "    </tr>\n",
       "    <tr>\n",
       "      <th>3</th>\n",
       "      <td>20010102</td>\n",
       "      <td>unknown</td>\n",
       "      <td>For bigwigs; it is destination Goa</td>\n",
       "    </tr>\n",
       "    <tr>\n",
       "      <th>4</th>\n",
       "      <td>20010102</td>\n",
       "      <td>unknown</td>\n",
       "      <td>Extra buses to clear tourist traffic</td>\n",
       "    </tr>\n",
       "  </tbody>\n",
       "</table>\n",
       "</div>"
      ],
      "text/plain": [
       "   publish_date headline_category  \\\n",
       "0      20010102           unknown   \n",
       "1      20010102           unknown   \n",
       "2      20010102           unknown   \n",
       "3      20010102           unknown   \n",
       "4      20010102           unknown   \n",
       "\n",
       "                                       headline_text  \n",
       "0  Status quo will not be disturbed at Ayodhya; s...  \n",
       "1                Fissures in Hurriyat over Pak visit  \n",
       "2              America's unwanted heading for India?  \n",
       "3                 For bigwigs; it is destination Goa  \n",
       "4               Extra buses to clear tourist traffic  "
      ]
     },
     "execution_count": 9,
     "metadata": {},
     "output_type": "execute_result"
    }
   ],
   "source": [
    "News=pd.read_csv('india-news-headlines.csv')\n",
    "News.head()"
   ]
  },
  {
   "cell_type": "code",
   "execution_count": 10,
   "id": "6caffdb5",
   "metadata": {},
   "outputs": [
    {
     "data": {
      "text/html": [
       "<div>\n",
       "<style scoped>\n",
       "    .dataframe tbody tr th:only-of-type {\n",
       "        vertical-align: middle;\n",
       "    }\n",
       "\n",
       "    .dataframe tbody tr th {\n",
       "        vertical-align: top;\n",
       "    }\n",
       "\n",
       "    .dataframe thead th {\n",
       "        text-align: right;\n",
       "    }\n",
       "</style>\n",
       "<table border=\"1\" class=\"dataframe\">\n",
       "  <thead>\n",
       "    <tr style=\"text-align: right;\">\n",
       "      <th></th>\n",
       "      <th>date</th>\n",
       "      <th>open_price</th>\n",
       "      <th>high_price</th>\n",
       "      <th>low_price</th>\n",
       "      <th>close_price</th>\n",
       "      <th>volume</th>\n",
       "      <th>adjclose_price</th>\n",
       "    </tr>\n",
       "  </thead>\n",
       "  <tbody>\n",
       "    <tr>\n",
       "      <th>0</th>\n",
       "      <td>2021-01-28</td>\n",
       "      <td>265.000000</td>\n",
       "      <td>483.000000</td>\n",
       "      <td>112.250000</td>\n",
       "      <td>193.600006</td>\n",
       "      <td>58815800.0</td>\n",
       "      <td>193.600006</td>\n",
       "    </tr>\n",
       "    <tr>\n",
       "      <th>1</th>\n",
       "      <td>2021-01-27</td>\n",
       "      <td>354.829987</td>\n",
       "      <td>380.000000</td>\n",
       "      <td>249.000000</td>\n",
       "      <td>347.510010</td>\n",
       "      <td>93396700.0</td>\n",
       "      <td>347.510010</td>\n",
       "    </tr>\n",
       "    <tr>\n",
       "      <th>2</th>\n",
       "      <td>2021-01-26</td>\n",
       "      <td>88.559998</td>\n",
       "      <td>150.000000</td>\n",
       "      <td>80.199997</td>\n",
       "      <td>147.979996</td>\n",
       "      <td>178588000.0</td>\n",
       "      <td>147.979996</td>\n",
       "    </tr>\n",
       "    <tr>\n",
       "      <th>3</th>\n",
       "      <td>2021-01-25</td>\n",
       "      <td>96.730003</td>\n",
       "      <td>159.179993</td>\n",
       "      <td>61.130001</td>\n",
       "      <td>76.790001</td>\n",
       "      <td>177874000.0</td>\n",
       "      <td>76.790001</td>\n",
       "    </tr>\n",
       "    <tr>\n",
       "      <th>4</th>\n",
       "      <td>2021-01-22</td>\n",
       "      <td>42.590000</td>\n",
       "      <td>76.760002</td>\n",
       "      <td>42.320000</td>\n",
       "      <td>65.010002</td>\n",
       "      <td>196784300.0</td>\n",
       "      <td>65.010002</td>\n",
       "    </tr>\n",
       "  </tbody>\n",
       "</table>\n",
       "</div>"
      ],
      "text/plain": [
       "         date  open_price  high_price   low_price  close_price       volume  \\\n",
       "0  2021-01-28  265.000000  483.000000  112.250000   193.600006   58815800.0   \n",
       "1  2021-01-27  354.829987  380.000000  249.000000   347.510010   93396700.0   \n",
       "2  2021-01-26   88.559998  150.000000   80.199997   147.979996  178588000.0   \n",
       "3  2021-01-25   96.730003  159.179993   61.130001    76.790001  177874000.0   \n",
       "4  2021-01-22   42.590000   76.760002   42.320000    65.010002  196784300.0   \n",
       "\n",
       "   adjclose_price  \n",
       "0      193.600006  \n",
       "1      347.510010  \n",
       "2      147.979996  \n",
       "3       76.790001  \n",
       "4       65.010002  "
      ]
     },
     "execution_count": 10,
     "metadata": {},
     "output_type": "execute_result"
    }
   ],
   "source": [
    "Stock=pd.read_csv('GME_stock.csv')\n",
    "Stock.head()"
   ]
  },
  {
   "cell_type": "code",
   "execution_count": 11,
   "id": "604887fb",
   "metadata": {},
   "outputs": [
    {
     "name": "stdout",
     "output_type": "stream",
     "text": [
      "<class 'pandas.core.frame.DataFrame'>\n",
      "RangeIndex: 4773 entries, 0 to 4772\n",
      "Data columns (total 7 columns):\n",
      " #   Column          Non-Null Count  Dtype         \n",
      "---  ------          --------------  -----         \n",
      " 0   date            4773 non-null   datetime64[ns]\n",
      " 1   open_price      4773 non-null   float64       \n",
      " 2   high_price      4773 non-null   float64       \n",
      " 3   low_price       4773 non-null   float64       \n",
      " 4   close_price     4773 non-null   float64       \n",
      " 5   volume          4773 non-null   float64       \n",
      " 6   adjclose_price  4773 non-null   float64       \n",
      "dtypes: datetime64[ns](1), float64(6)\n",
      "memory usage: 261.1 KB\n"
     ]
    }
   ],
   "source": [
    "Stock['date']=pd.to_datetime(Stock['date'])\n",
    "Stock.info()"
   ]
  },
  {
   "cell_type": "code",
   "execution_count": 12,
   "id": "4c74be7a",
   "metadata": {},
   "outputs": [],
   "source": [
    "Stock.dropna(inplace=True)"
   ]
  },
  {
   "cell_type": "code",
   "execution_count": 13,
   "id": "404a516f",
   "metadata": {},
   "outputs": [
    {
     "data": {
      "text/plain": [
       "Text(0, 0.5, 'close_price')"
      ]
     },
     "execution_count": 13,
     "metadata": {},
     "output_type": "execute_result"
    },
    {
     "data": {
      "image/png": "[encoded data removed]",
      "text/plain": [
       "<Figure size 720x432 with 1 Axes>"
      ]
     },
     "metadata": {
      "needs_background": "light"
     },
     "output_type": "display_data"
    }
   ],
   "source": [
    "plt.figure(figsize=(10, 6))\n",
    "Stock['close_price'].plot()\n",
    "plt.ylabel('close_price')"
   ]
  },
  {
   "cell_type": "markdown",
   "id": "0d169bca",
   "metadata": {},
   "source": [
    "### Plotting Moving Average"
   ]
  },
  {
   "cell_type": "code",
   "execution_count": 14,
   "id": "da36a076",
   "metadata": {},
   "outputs": [
    {
     "data": {
      "text/plain": [
       "<matplotlib.legend.Legend at 0x22e01dccdf0>"
      ]
     },
     "execution_count": 14,
     "metadata": {},
     "output_type": "execute_result"
    },
    {
     "data": {
      "image/png": "[encoded data removed]",
      "text/plain": [
       "<Figure size 720x432 with 1 Axes>"
      ]
     },
     "metadata": {
      "needs_background": "light"
     },
     "output_type": "display_data"
    }
   ],
   "source": [
    "close=Stock['close_price']\n",
    "mea=close.rolling(window=50).mean()\n",
    "std=close.rolling(window=50).std()\n",
    "\n",
    "plt.figure(figsize=(10,6))\n",
    "Stock['close_price'].plot(color='b',label='close')\n",
    "mea.plot(color='r',label='Rolling Mean')\n",
    "std.plot(label='Rolling Standard Deviation')\n",
    "plt.legend()"
   ]
  },
  {
   "cell_type": "markdown",
   "id": "3fb98621",
   "metadata": {},
   "source": [
    "### Plotting return"
   ]
  },
  {
   "cell_type": "code",
   "execution_count": 15,
   "id": "91c264d8",
   "metadata": {},
   "outputs": [
    {
     "data": {
      "text/plain": [
       "Text(0.5, 1.0, 'Returns')"
      ]
     },
     "execution_count": 15,
     "metadata": {},
     "output_type": "execute_result"
    },
    {
     "data": {
      "image/png": "[encoded data removed]",
      "text/plain": [
       "<Figure size 720x432 with 1 Axes>"
      ]
     },
     "metadata": {
      "needs_background": "light"
     },
     "output_type": "display_data"
    }
   ],
   "source": [
    "returns=close/close.shift(1)-1\n",
    "plt.figure(figsize=(10,6))\n",
    "returns.plot(label='Return',color='g')\n",
    "plt.title('Returns')"
   ]
  },
  {
   "cell_type": "code",
   "execution_count": 16,
   "id": "2758a200",
   "metadata": {},
   "outputs": [],
   "source": [
    "train=Stock[:1000]\n",
    "test=Stock[1000:]\n"
   ]
  },
  {
   "cell_type": "markdown",
   "id": "d89f6291",
   "metadata": {},
   "source": [
    "### Stationarity test"
   ]
  },
  {
   "cell_type": "code",
   "execution_count": 17,
   "id": "f17cd859",
   "metadata": {},
   "outputs": [
    {
     "data": {
      "image/png": "[encoded data removed]",
      "text/plain": [
       "<Figure size 720x576 with 1 Axes>"
      ]
     },
     "metadata": {
      "needs_background": "light"
     },
     "output_type": "display_data"
    },
    {
     "name": "stdout",
     "output_type": "stream",
     "text": [
      "Results of dickey fuller test\n"
     ]
    },
    {
     "ename": "NameError",
     "evalue": "name 'adfuler' is not defined",
     "output_type": "error",
     "traceback": [
      "\u001b[1;31m---------------------------------------------------------------------------\u001b[0m",
      "\u001b[1;31mNameError\u001b[0m                                 Traceback (most recent call last)",
      "\u001b[1;32m<ipython-input-17-fd5d53bb3364>\u001b[0m in \u001b[0;36m<module>\u001b[1;34m\u001b[0m\n\u001b[0;32m     26\u001b[0m     \u001b[1;32melse\u001b[0m\u001b[1;33m:\u001b[0m\u001b[1;33m\u001b[0m\u001b[1;33m\u001b[0m\u001b[0m\n\u001b[0;32m     27\u001b[0m         \u001b[0mprint\u001b[0m\u001b[1;33m(\u001b[0m\u001b[1;34m\"Weak evidence against null hypothesis, time series is non-stationary \"\u001b[0m\u001b[1;33m)\u001b[0m\u001b[1;33m\u001b[0m\u001b[1;33m\u001b[0m\u001b[0m\n\u001b[1;32m---> 28\u001b[1;33m \u001b[0mtest_stationarity\u001b[0m\u001b[1;33m(\u001b[0m\u001b[0mtrain\u001b[0m\u001b[1;33m[\u001b[0m\u001b[1;34m'close_price'\u001b[0m\u001b[1;33m]\u001b[0m\u001b[1;33m)\u001b[0m\u001b[1;33m\u001b[0m\u001b[1;33m\u001b[0m\u001b[0m\n\u001b[0m",
      "\u001b[1;32m<ipython-input-17-fd5d53bb3364>\u001b[0m in \u001b[0;36mtest_stationarity\u001b[1;34m(timeseries)\u001b[0m\n\u001b[0;32m     17\u001b[0m     \u001b[0mplt\u001b[0m\u001b[1;33m.\u001b[0m\u001b[0mshow\u001b[0m\u001b[1;33m(\u001b[0m\u001b[0mblock\u001b[0m\u001b[1;33m=\u001b[0m\u001b[1;32mFalse\u001b[0m\u001b[1;33m)\u001b[0m\u001b[1;33m\u001b[0m\u001b[1;33m\u001b[0m\u001b[0m\n\u001b[0;32m     18\u001b[0m     \u001b[0mprint\u001b[0m\u001b[1;33m(\u001b[0m\u001b[1;34m'Results of dickey fuller test'\u001b[0m\u001b[1;33m)\u001b[0m\u001b[1;33m\u001b[0m\u001b[1;33m\u001b[0m\u001b[0m\n\u001b[1;32m---> 19\u001b[1;33m     \u001b[0mresult\u001b[0m\u001b[1;33m=\u001b[0m\u001b[0madfuler\u001b[0m\u001b[1;33m(\u001b[0m\u001b[0mtimeseries\u001b[0m\u001b[1;33m,\u001b[0m\u001b[0mautolog\u001b[0m\u001b[1;33m=\u001b[0m\u001b[1;34m'AIC'\u001b[0m\u001b[1;33m)\u001b[0m\u001b[1;33m\u001b[0m\u001b[1;33m\u001b[0m\u001b[0m\n\u001b[0m\u001b[0;32m     20\u001b[0m     \u001b[0mlabels\u001b[0m\u001b[1;33m=\u001b[0m\u001b[1;33m[\u001b[0m\u001b[1;34m'ADF Test Statistic'\u001b[0m\u001b[1;33m,\u001b[0m\u001b[1;34m'p-value'\u001b[0m\u001b[1;33m,\u001b[0m\u001b[1;34m'#Lags Used'\u001b[0m\u001b[1;33m,\u001b[0m\u001b[1;34m'Number of Observations Used'\u001b[0m\u001b[1;33m]\u001b[0m\u001b[1;33m\u001b[0m\u001b[1;33m\u001b[0m\u001b[0m\n\u001b[0;32m     21\u001b[0m \u001b[1;33m\u001b[0m\u001b[0m\n",
      "\u001b[1;31mNameError\u001b[0m: name 'adfuler' is not defined"
     ]
    }
   ],
   "source": [
    "def test_stationarity(timeseries):\n",
    "    \n",
    "    # Determining rolling statistics\n",
    "    \n",
    "    rolman=timeseries.rolling(20).mean()\n",
    "    rolstd=timeseries.rolling(20).std()\n",
    "    \n",
    "    #plot rolling statistics\n",
    "    \n",
    "    plt.figure(figsize=(10,8))\n",
    "    plt.plot(timeseries,color='y',label='original')\n",
    "    plt.plot(rolman,color='b',label='rolling mean')\n",
    "    plt.plot(rolstd,color='b',label='rolling std')\n",
    "    plt.xlabel('date')\n",
    "    plt.legend()\n",
    "    plt.title('Rolling Mean & Standard Deviation',fontsize=20)\n",
    "    plt.show(block=False)\n",
    "    print('Results of dickey fuller test')\n",
    "    result=adfuler(timeseries,autolog='AIC')\n",
    "    labels=['ADF Test Statistic','p-value','#Lags Used','Number of Observations Used']\n",
    " \n",
    "    for value,label in zip(result,labels):\n",
    "        print(label+ ':' +str(value))\n",
    "    if result[1]<=0.05:\n",
    "        print(\"Strong evidence against the null hypothesis(Ho), reject the null hypothesis. Data is stationary\")\n",
    "    else:\n",
    "        print(\"Weak evidence against null hypothesis, time series is non-stationary \")\n",
    "test_stationarity(train['close_price'])"
   ]
  },
  {
   "cell_type": "code",
   "execution_count": null,
   "id": "9d3c67f4",
   "metadata": {},
   "outputs": [],
   "source": [
    "train_log=np.log(train['close_price'])\n",
    "test_log=np.log(test['close_price'])\n",
    "\n",
    "mav=train_log.rolling(24).mean()\n",
    "plt.figure(figsize=(10,6))\n",
    "plt.plot(train_log)\n",
    "plt.plot(mav,color='red')"
   ]
  },
  {
   "cell_type": "code",
   "execution_count": null,
   "id": "60982936",
   "metadata": {},
   "outputs": [],
   "source": [
    "train_log.dropna(inplace = True)\n",
    "test_log.dropna(inplace = True)\n",
    "\n",
    "test_stationarity(train_log)"
   ]
  },
  {
   "cell_type": "code",
   "execution_count": null,
   "id": "7118b408",
   "metadata": {},
   "outputs": [],
   "source": [
    "train_log_diff = train_log - mav\n",
    "train_log_diff.dropna(inplace = True)\n",
    "\n",
    "test_stationarity(train_log_diff)"
   ]
  },
  {
   "cell_type": "markdown",
   "id": "b316e4c9",
   "metadata": {},
   "source": [
    " # India-News-Headlines"
   ]
  },
  {
   "cell_type": "code",
   "execution_count": null,
   "id": "0c00aa8c",
   "metadata": {},
   "outputs": [],
   "source": [
    "# read the dataset\n",
    "News=pd.read_csv('india-news-headlines.csv')\n",
    "News.head()"
   ]
  },
  {
   "cell_type": "code",
   "execution_count": null,
   "id": "d743aed7",
   "metadata": {},
   "outputs": [],
   "source": [
    "\n",
    "News.drop('headline_category', axis = 1, inplace=True)\n",
    "News.info()"
   ]
  },
  {
   "cell_type": "markdown",
   "id": "bf215da4",
   "metadata": {},
   "source": [
    "#### Converting data type of Date column "
   ]
  },
  {
   "cell_type": "code",
   "execution_count": null,
   "id": "727a07b6",
   "metadata": {},
   "outputs": [],
   "source": [
    "\n",
    "News['publish_date'] = pd.to_datetime(News['publish_date'],format= '%Y%m%d')\n",
    "News"
   ]
  },
  {
   "cell_type": "markdown",
   "id": "7626fc83",
   "metadata": {},
   "source": [
    "#### Grouping the headlines for each day"
   ]
  },
  {
   "cell_type": "code",
   "execution_count": null,
   "id": "f3f9afc4",
   "metadata": {},
   "outputs": [],
   "source": [
    "News['headline_text'] =News.groupby(['publish_date']).transform(lambda x : ' '.join(x)) \n",
    "News = News.drop_duplicates() \n",
    "News.reset_index(inplace = True, drop = True)\n",
    "News"
   ]
  },
  {
   "cell_type": "code",
   "execution_count": null,
   "id": "d36dab2f",
   "metadata": {},
   "outputs": [],
   "source": [
    "News['headline_text']"
   ]
  },
  {
   "cell_type": "markdown",
   "id": "8db1efda",
   "metadata": {},
   "source": [
    "#### import some Lybraries"
   ]
  },
  {
   "cell_type": "code",
   "execution_count": 33,
   "id": "1ae77ec1",
   "metadata": {
    "scrolled": true
   },
   "outputs": [
    {
     "name": "stderr",
     "output_type": "stream",
     "text": [
      "[nltk_data] Downloading package stopwords to\n",
      "[nltk_data]     C:\\Users\\cool\\AppData\\Roaming\\nltk_data...\n",
      "[nltk_data]   Package stopwords is already up-to-date!\n",
      "[nltk_data] Downloading package vader_lexicon to\n",
      "[nltk_data]     C:\\Users\\cool\\AppData\\Roaming\\nltk_data...\n",
      "[nltk_data]   Package vader_lexicon is already up-to-date!\n"
     ]
    }
   ],
   "source": [
    "import nltk\n",
    "import re\n",
    "from nltk.corpus import stopwords\n",
    "nltk.download('stopwords')\n",
    "nltk.download('vader_lexicon')\n",
    "from textblob import TextBlob\n",
    "from nltk.sentiment.vader import SentimentIntensityAnalyzer"
   ]
  },
  {
   "cell_type": "code",
   "execution_count": 32,
   "id": "204ee045",
   "metadata": {},
   "outputs": [
    {
     "name": "stdout",
     "output_type": "stream",
     "text": [
      "Collecting textblob\n",
      "  Downloading textblob-0.17.1-py2.py3-none-any.whl (636 kB)\n",
      "Requirement already satisfied: nltk>=3.1 in c:\\anaconda\\lib\\site-packages (from textblob) (3.6.1)\n",
      "Requirement already satisfied: joblib in c:\\anaconda\\lib\\site-packages (from nltk>=3.1->textblob) (1.0.1)\n",
      "Requirement already satisfied: regex in c:\\anaconda\\lib\\site-packages (from nltk>=3.1->textblob) (2021.4.4)\n",
      "Requirement already satisfied: click in c:\\anaconda\\lib\\site-packages (from nltk>=3.1->textblob) (7.1.2)\n",
      "Requirement already satisfied: tqdm in c:\\anaconda\\lib\\site-packages (from nltk>=3.1->textblob) (4.59.0)\n",
      "Installing collected packages: textblob\n",
      "Successfully installed textblob-0.17.1\n",
      "Note: you may need to restart the kernel to use updated packages.\n"
     ]
    }
   ],
   "source": [
    "pip install textblob\n"
   ]
  },
  {
   "cell_type": "markdown",
   "id": "8b02e73a",
   "metadata": {},
   "source": [
    "#### Cleaning headlines"
   ]
  },
  {
   "cell_type": "code",
   "execution_count": 34,
   "id": "19f654c3",
   "metadata": {},
   "outputs": [],
   "source": [
    "c = []\n",
    "for i in range(0,len(News['headline_text'])):\n",
    "    news = re.sub('[^a-zA-Z]',' ',News['headline_text'][i])\n",
    "    news = news.lower()\n",
    "    news = news.split()\n",
    "   # news = [ps.stem(word) for word in news if not word in set(stopwords.words('english'))]\n",
    "    news=' '.join(news)\n",
    "    c.append(news)"
   ]
  },
  {
   "cell_type": "code",
   "execution_count": 35,
   "id": "641707a6",
   "metadata": {},
   "outputs": [
    {
     "data": {
      "text/html": [
       "<div>\n",
       "<style scoped>\n",
       "    .dataframe tbody tr th:only-of-type {\n",
       "        vertical-align: middle;\n",
       "    }\n",
       "\n",
       "    .dataframe tbody tr th {\n",
       "        vertical-align: top;\n",
       "    }\n",
       "\n",
       "    .dataframe thead th {\n",
       "        text-align: right;\n",
       "    }\n",
       "</style>\n",
       "<table border=\"1\" class=\"dataframe\">\n",
       "  <thead>\n",
       "    <tr style=\"text-align: right;\">\n",
       "      <th></th>\n",
       "      <th>publish_date</th>\n",
       "      <th>headline_category</th>\n",
       "      <th>headline_text</th>\n",
       "      <th>Headline_text</th>\n",
       "    </tr>\n",
       "  </thead>\n",
       "  <tbody>\n",
       "    <tr>\n",
       "      <th>0</th>\n",
       "      <td>20010102</td>\n",
       "      <td>unknown</td>\n",
       "      <td>Status quo will not be disturbed at Ayodhya; s...</td>\n",
       "      <td>status quo will not be disturbed at ayodhya sa...</td>\n",
       "    </tr>\n",
       "    <tr>\n",
       "      <th>1</th>\n",
       "      <td>20010102</td>\n",
       "      <td>unknown</td>\n",
       "      <td>Fissures in Hurriyat over Pak visit</td>\n",
       "      <td>fissures in hurriyat over pak visit</td>\n",
       "    </tr>\n",
       "    <tr>\n",
       "      <th>2</th>\n",
       "      <td>20010102</td>\n",
       "      <td>unknown</td>\n",
       "      <td>America's unwanted heading for India?</td>\n",
       "      <td>america s unwanted heading for india</td>\n",
       "    </tr>\n",
       "    <tr>\n",
       "      <th>3</th>\n",
       "      <td>20010102</td>\n",
       "      <td>unknown</td>\n",
       "      <td>For bigwigs; it is destination Goa</td>\n",
       "      <td>for bigwigs it is destination goa</td>\n",
       "    </tr>\n",
       "    <tr>\n",
       "      <th>4</th>\n",
       "      <td>20010102</td>\n",
       "      <td>unknown</td>\n",
       "      <td>Extra buses to clear tourist traffic</td>\n",
       "      <td>extra buses to clear tourist traffic</td>\n",
       "    </tr>\n",
       "    <tr>\n",
       "      <th>...</th>\n",
       "      <td>...</td>\n",
       "      <td>...</td>\n",
       "      <td>...</td>\n",
       "      <td>...</td>\n",
       "    </tr>\n",
       "    <tr>\n",
       "      <th>3424062</th>\n",
       "      <td>20201231</td>\n",
       "      <td>city.jodhpur</td>\n",
       "      <td>Covid-19: Despite dip in cases; Rajasthan amon...</td>\n",
       "      <td>covid despite dip in cases rajasthan among top...</td>\n",
       "    </tr>\n",
       "    <tr>\n",
       "      <th>3424063</th>\n",
       "      <td>20201231</td>\n",
       "      <td>city.udaipur</td>\n",
       "      <td>Covid-19: Despite dip in cases; Rajasthan amon...</td>\n",
       "      <td>covid despite dip in cases rajasthan among top...</td>\n",
       "    </tr>\n",
       "    <tr>\n",
       "      <th>3424064</th>\n",
       "      <td>20201231</td>\n",
       "      <td>city.ajmer</td>\n",
       "      <td>Covid-19: Despite dip in cases; Rajasthan amon...</td>\n",
       "      <td>covid despite dip in cases rajasthan among top...</td>\n",
       "    </tr>\n",
       "    <tr>\n",
       "      <th>3424065</th>\n",
       "      <td>20201231</td>\n",
       "      <td>removed</td>\n",
       "      <td>Govt extends deadline for use of FASTag till F...</td>\n",
       "      <td>govt extends deadline for use of fastag till f...</td>\n",
       "    </tr>\n",
       "    <tr>\n",
       "      <th>3424066</th>\n",
       "      <td>20201231</td>\n",
       "      <td>entertainment.bengali.movies.news</td>\n",
       "      <td>Celebs plan to party safely and responsibly on...</td>\n",
       "      <td>celebs plan to party safely and responsibly on...</td>\n",
       "    </tr>\n",
       "  </tbody>\n",
       "</table>\n",
       "<p>3424067 rows × 4 columns</p>\n",
       "</div>"
      ],
      "text/plain": [
       "         publish_date                  headline_category  \\\n",
       "0            20010102                            unknown   \n",
       "1            20010102                            unknown   \n",
       "2            20010102                            unknown   \n",
       "3            20010102                            unknown   \n",
       "4            20010102                            unknown   \n",
       "...               ...                                ...   \n",
       "3424062      20201231                       city.jodhpur   \n",
       "3424063      20201231                       city.udaipur   \n",
       "3424064      20201231                         city.ajmer   \n",
       "3424065      20201231                            removed   \n",
       "3424066      20201231  entertainment.bengali.movies.news   \n",
       "\n",
       "                                             headline_text  \\\n",
       "0        Status quo will not be disturbed at Ayodhya; s...   \n",
       "1                      Fissures in Hurriyat over Pak visit   \n",
       "2                    America's unwanted heading for India?   \n",
       "3                       For bigwigs; it is destination Goa   \n",
       "4                     Extra buses to clear tourist traffic   \n",
       "...                                                    ...   \n",
       "3424062  Covid-19: Despite dip in cases; Rajasthan amon...   \n",
       "3424063  Covid-19: Despite dip in cases; Rajasthan amon...   \n",
       "3424064  Covid-19: Despite dip in cases; Rajasthan amon...   \n",
       "3424065  Govt extends deadline for use of FASTag till F...   \n",
       "3424066  Celebs plan to party safely and responsibly on...   \n",
       "\n",
       "                                             Headline_text  \n",
       "0        status quo will not be disturbed at ayodhya sa...  \n",
       "1                      fissures in hurriyat over pak visit  \n",
       "2                     america s unwanted heading for india  \n",
       "3                        for bigwigs it is destination goa  \n",
       "4                     extra buses to clear tourist traffic  \n",
       "...                                                    ...  \n",
       "3424062  covid despite dip in cases rajasthan among top...  \n",
       "3424063  covid despite dip in cases rajasthan among top...  \n",
       "3424064  covid despite dip in cases rajasthan among top...  \n",
       "3424065  govt extends deadline for use of fastag till f...  \n",
       "3424066  celebs plan to party safely and responsibly on...  \n",
       "\n",
       "[3424067 rows x 4 columns]"
      ]
     },
     "execution_count": 35,
     "metadata": {},
     "output_type": "execute_result"
    }
   ],
   "source": [
    "#News['Headline_text']=pd.Series(c)\n",
    "News\n"
   ]
  },
  {
   "cell_type": "markdown",
   "id": "427eff55",
   "metadata": {},
   "source": [
    "#### Functions to get the subjectivity and polarity\n"
   ]
  },
  {
   "cell_type": "code",
   "execution_count": 38,
   "id": "82c3bd97",
   "metadata": {},
   "outputs": [],
   "source": [
    "def getSubjectivity(text):\n",
    "  return TextBlob(text).sentiment.subjectivity\n",
    "\n",
    "def getPolarity(text):\n",
    "  return  TextBlob(text).sentiment.polarity"
   ]
  },
  {
   "cell_type": "markdown",
   "id": "204b7665",
   "metadata": {},
   "source": [
    "#### Adding subjectivity and polarity columns\n"
   ]
  },
  {
   "cell_type": "code",
   "execution_count": 44,
   "id": "f4bff3bd",
   "metadata": {},
   "outputs": [
    {
     "data": {
      "text/html": [
       "<div>\n",
       "<style scoped>\n",
       "    .dataframe tbody tr th:only-of-type {\n",
       "        vertical-align: middle;\n",
       "    }\n",
       "\n",
       "    .dataframe tbody tr th {\n",
       "        vertical-align: top;\n",
       "    }\n",
       "\n",
       "    .dataframe thead th {\n",
       "        text-align: right;\n",
       "    }\n",
       "</style>\n",
       "<table border=\"1\" class=\"dataframe\">\n",
       "  <thead>\n",
       "    <tr style=\"text-align: right;\">\n",
       "      <th></th>\n",
       "      <th>publish_date</th>\n",
       "      <th>headline_category</th>\n",
       "      <th>headline_text</th>\n",
       "      <th>Headline_text</th>\n",
       "      <th>Subjectivity</th>\n",
       "      <th>Polarity</th>\n",
       "    </tr>\n",
       "  </thead>\n",
       "  <tbody>\n",
       "    <tr>\n",
       "      <th>0</th>\n",
       "      <td>20010102</td>\n",
       "      <td>unknown</td>\n",
       "      <td>Status quo will not be disturbed at Ayodhya; s...</td>\n",
       "      <td>status quo will not be disturbed at ayodhya sa...</td>\n",
       "      <td>0.000000</td>\n",
       "      <td>0.000000</td>\n",
       "    </tr>\n",
       "    <tr>\n",
       "      <th>1</th>\n",
       "      <td>20010102</td>\n",
       "      <td>unknown</td>\n",
       "      <td>Fissures in Hurriyat over Pak visit</td>\n",
       "      <td>fissures in hurriyat over pak visit</td>\n",
       "      <td>0.000000</td>\n",
       "      <td>0.000000</td>\n",
       "    </tr>\n",
       "    <tr>\n",
       "      <th>2</th>\n",
       "      <td>20010102</td>\n",
       "      <td>unknown</td>\n",
       "      <td>America's unwanted heading for India?</td>\n",
       "      <td>america s unwanted heading for india</td>\n",
       "      <td>0.000000</td>\n",
       "      <td>0.000000</td>\n",
       "    </tr>\n",
       "    <tr>\n",
       "      <th>3</th>\n",
       "      <td>20010102</td>\n",
       "      <td>unknown</td>\n",
       "      <td>For bigwigs; it is destination Goa</td>\n",
       "      <td>for bigwigs it is destination goa</td>\n",
       "      <td>0.000000</td>\n",
       "      <td>0.000000</td>\n",
       "    </tr>\n",
       "    <tr>\n",
       "      <th>4</th>\n",
       "      <td>20010102</td>\n",
       "      <td>unknown</td>\n",
       "      <td>Extra buses to clear tourist traffic</td>\n",
       "      <td>extra buses to clear tourist traffic</td>\n",
       "      <td>0.241667</td>\n",
       "      <td>0.050000</td>\n",
       "    </tr>\n",
       "    <tr>\n",
       "      <th>...</th>\n",
       "      <td>...</td>\n",
       "      <td>...</td>\n",
       "      <td>...</td>\n",
       "      <td>...</td>\n",
       "      <td>...</td>\n",
       "      <td>...</td>\n",
       "    </tr>\n",
       "    <tr>\n",
       "      <th>3424062</th>\n",
       "      <td>20201231</td>\n",
       "      <td>city.jodhpur</td>\n",
       "      <td>Covid-19: Despite dip in cases; Rajasthan amon...</td>\n",
       "      <td>covid despite dip in cases rajasthan among top...</td>\n",
       "      <td>0.500000</td>\n",
       "      <td>0.500000</td>\n",
       "    </tr>\n",
       "    <tr>\n",
       "      <th>3424063</th>\n",
       "      <td>20201231</td>\n",
       "      <td>city.udaipur</td>\n",
       "      <td>Covid-19: Despite dip in cases; Rajasthan amon...</td>\n",
       "      <td>covid despite dip in cases rajasthan among top...</td>\n",
       "      <td>0.500000</td>\n",
       "      <td>0.500000</td>\n",
       "    </tr>\n",
       "    <tr>\n",
       "      <th>3424064</th>\n",
       "      <td>20201231</td>\n",
       "      <td>city.ajmer</td>\n",
       "      <td>Covid-19: Despite dip in cases; Rajasthan amon...</td>\n",
       "      <td>covid despite dip in cases rajasthan among top...</td>\n",
       "      <td>0.500000</td>\n",
       "      <td>0.500000</td>\n",
       "    </tr>\n",
       "    <tr>\n",
       "      <th>3424065</th>\n",
       "      <td>20201231</td>\n",
       "      <td>removed</td>\n",
       "      <td>Govt extends deadline for use of FASTag till F...</td>\n",
       "      <td>govt extends deadline for use of fastag till f...</td>\n",
       "      <td>0.000000</td>\n",
       "      <td>0.000000</td>\n",
       "    </tr>\n",
       "    <tr>\n",
       "      <th>3424066</th>\n",
       "      <td>20201231</td>\n",
       "      <td>entertainment.bengali.movies.news</td>\n",
       "      <td>Celebs plan to party safely and responsibly on...</td>\n",
       "      <td>celebs plan to party safely and responsibly on...</td>\n",
       "      <td>0.477273</td>\n",
       "      <td>0.318182</td>\n",
       "    </tr>\n",
       "  </tbody>\n",
       "</table>\n",
       "<p>3424067 rows × 6 columns</p>\n",
       "</div>"
      ],
      "text/plain": [
       "         publish_date                  headline_category  \\\n",
       "0            20010102                            unknown   \n",
       "1            20010102                            unknown   \n",
       "2            20010102                            unknown   \n",
       "3            20010102                            unknown   \n",
       "4            20010102                            unknown   \n",
       "...               ...                                ...   \n",
       "3424062      20201231                       city.jodhpur   \n",
       "3424063      20201231                       city.udaipur   \n",
       "3424064      20201231                         city.ajmer   \n",
       "3424065      20201231                            removed   \n",
       "3424066      20201231  entertainment.bengali.movies.news   \n",
       "\n",
       "                                             headline_text  \\\n",
       "0        Status quo will not be disturbed at Ayodhya; s...   \n",
       "1                      Fissures in Hurriyat over Pak visit   \n",
       "2                    America's unwanted heading for India?   \n",
       "3                       For bigwigs; it is destination Goa   \n",
       "4                     Extra buses to clear tourist traffic   \n",
       "...                                                    ...   \n",
       "3424062  Covid-19: Despite dip in cases; Rajasthan amon...   \n",
       "3424063  Covid-19: Despite dip in cases; Rajasthan amon...   \n",
       "3424064  Covid-19: Despite dip in cases; Rajasthan amon...   \n",
       "3424065  Govt extends deadline for use of FASTag till F...   \n",
       "3424066  Celebs plan to party safely and responsibly on...   \n",
       "\n",
       "                                             Headline_text  Subjectivity  \\\n",
       "0        status quo will not be disturbed at ayodhya sa...      0.000000   \n",
       "1                      fissures in hurriyat over pak visit      0.000000   \n",
       "2                     america s unwanted heading for india      0.000000   \n",
       "3                        for bigwigs it is destination goa      0.000000   \n",
       "4                     extra buses to clear tourist traffic      0.241667   \n",
       "...                                                    ...           ...   \n",
       "3424062  covid despite dip in cases rajasthan among top...      0.500000   \n",
       "3424063  covid despite dip in cases rajasthan among top...      0.500000   \n",
       "3424064  covid despite dip in cases rajasthan among top...      0.500000   \n",
       "3424065  govt extends deadline for use of fastag till f...      0.000000   \n",
       "3424066  celebs plan to party safely and responsibly on...      0.477273   \n",
       "\n",
       "         Polarity  \n",
       "0        0.000000  \n",
       "1        0.000000  \n",
       "2        0.000000  \n",
       "3        0.000000  \n",
       "4        0.050000  \n",
       "...           ...  \n",
       "3424062  0.500000  \n",
       "3424063  0.500000  \n",
       "3424064  0.500000  \n",
       "3424065  0.000000  \n",
       "3424066  0.318182  \n",
       "\n",
       "[3424067 rows x 6 columns]"
      ]
     },
     "execution_count": 44,
     "metadata": {},
     "output_type": "execute_result"
    }
   ],
   "source": [
    "News['Subjectivity'] =News['headline_text'].apply(getSubjectivity)\n",
    "News['Polarity'] = News['headline_text'].apply(getPolarity)\n",
    "News"
   ]
  },
  {
   "cell_type": "code",
   "execution_count": 45,
   "id": "87318054",
   "metadata": {},
   "outputs": [
    {
     "data": {
      "text/plain": [
       "<AxesSubplot:>"
      ]
     },
     "execution_count": 45,
     "metadata": {},
     "output_type": "execute_result"
    },
    {
     "data": {
      "image/png": "[encoded data removed]",
      "text/plain": [
       "<Figure size 720x432 with 1 Axes>"
      ]
     },
     "metadata": {
      "needs_background": "light"
     },
     "output_type": "display_data"
    }
   ],
   "source": [
    "plt.figure(figsize = (10,6))\n",
    "News['Polarity'].hist(color = 'purple')"
   ]
  },
  {
   "cell_type": "code",
   "execution_count": 46,
   "id": "d44341f8",
   "metadata": {},
   "outputs": [],
   "source": [
    "#plt.figure(figsize = (10,6))\n",
    "#News['Subjectivity'].hist(color = 'blue')"
   ]
  },
  {
   "cell_type": "markdown",
   "id": "c7072936",
   "metadata": {},
   "source": [
    "### Adding sentiment score to df_news"
   ]
  },
  {
   "cell_type": "code",
   "execution_count": null,
   "id": "cd2e2778",
   "metadata": {},
   "outputs": [],
   "source": [
    "from nltk.sentiment.vader import SentimentIntensityAnalyzer\n"
   ]
  },
  {
   "cell_type": "code",
   "execution_count": null,
   "id": "8ca9cb16",
   "metadata": {},
   "outputs": [],
   "source": [
    "sia = SentimentIntensityAnalyzer()\n",
    "\n",
    "News['Compound'] = [sia.polarity_scores(v)['compound'] for v in News['headline_text']]\n",
    "News['Negative'] = [sia.polarity_scores(v)['neg'] for v in News['headline_text']]\n",
    "News['Neutral'] = [sia.polarity_scores(v)['neu'] for v in News['headline_text']]\n",
    "News['Positive'] = [sia.polarity_scores(v)['pos'] for v in News['headline_text']]\n",
    "News"
   ]
  },
  {
   "cell_type": "code",
   "execution_count": null,
   "id": "4a5d97c4",
   "metadata": {},
   "outputs": [],
   "source": [
    "News=pd.merge(News,"
   ]
  },
  {
   "cell_type": "markdown",
   "id": "03cf7850",
   "metadata": {},
   "source": [
    "### Combine the 'Stock_Prediction_data' and 'News_headlines_data' and to Create Hybrid Model"
   ]
  },
  {
   "cell_type": "code",
   "execution_count": null,
   "id": "2827ecd3",
   "metadata": {},
   "outputs": [],
   "source": []
  }
 ],
 "metadata": {
  "kernelspec": {
   "display_name": "Python 3",
   "language": "python",
   "name": "python3"
  },
  "language_info": {
   "codemirror_mode": {
    "name": "ipython",
    "version": 3
   },
   "file_extension": ".py",
   "mimetype": "text/x-python",
   "name": "python",
   "nbconvert_exporter": "python",
   "pygments_lexer": "ipython3",
   "version": "3.8.8"
  }
 },
 "nbformat": 4,
 "nbformat_minor": 5
}
